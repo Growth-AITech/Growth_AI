{
 "cells": [
  {
   "cell_type": "code",
   "execution_count": 9,
   "id": "8932c240",
   "metadata": {},
   "outputs": [],
   "source": [
    "import os\n",
    "from openai import OpenAI\n",
    "from dotenv import load_dotenv"
   ]
  },
  {
   "cell_type": "code",
   "execution_count": 10,
   "id": "35778a4d",
   "metadata": {},
   "outputs": [
    {
     "data": {
      "text/plain": [
       "True"
      ]
     },
     "execution_count": 10,
     "metadata": {},
     "output_type": "execute_result"
    }
   ],
   "source": [
    "load_dotenv()"
   ]
  },
  {
   "cell_type": "code",
   "execution_count": 11,
   "id": "e6ce5b0c",
   "metadata": {},
   "outputs": [
    {
     "name": "stdout",
     "output_type": "stream",
     "text": [
      "152cda2952b7febf574eef62d60cecc33a896b5a61c9cce7dc9e71c7ff50acd3\n"
     ]
    }
   ],
   "source": [
    "api_key = os.getenv(\"together_api_key\")\n",
    "print(api_key)"
   ]
  },
  {
   "cell_type": "code",
   "execution_count": 14,
   "id": "90429753",
   "metadata": {},
   "outputs": [],
   "source": [
    "input_data = {\n",
    "  \"user_id\": \"uuid-1234\",\n",
    "  \"nombre_negocio\": \"Zapatos Urban\",\n",
    "  \"industria\": \"Moda\",\n",
    "  \"descripcion_negocio\": \"Tienda online de zapatillas urbanas modernas\",\n",
    "  \"tipo_contenido\": [\"video_promocional\", \"redes_sociales\"],\n",
    "  \"plataformas\": [\"Instagram\", \"TikTok\", \"Meta Ads\"],\n",
    "  \"objetivo_marketing\": \"Engagement\",\n",
    "  \"publico_objetivo\": \"Jóvenes entre 18-25 años que siguen tendencias de moda urbana\",\n",
    "  \"tono\": \"informal\",\n",
    "  \"idioma\": \"es\",\n",
    "  \"presupuesto_campana\": 500,\n",
    "  \"duracion_video_seg\": 30,\n",
    "  \"logo_url\": \"https://mirael-datalake.s3.amazonaws.com/logos/zapatosurban.png\",\n",
    "  \"historial_contextual\": True\n",
    "}\n",
    "\n",
    "# Construcción del prompt dinámico\n",
    "def construir_prompt(datos):\n",
    "    return f\"\"\"\n",
    "Tu objetivo como asistente es crear una campaña de growth marketing creativa, eficiente y atractiva para un cliente.\n",
    "\n",
    "Datos del cliente:\n",
    "- Nombre del negocio: {datos[\"nombre_negocio\"]}\n",
    "- Industria: {datos[\"industria\"]}\n",
    "- Descripción del negocio: {datos[\"descripcion_negocio\"]}\n",
    "- Público objetivo: {datos[\"publico_objetivo\"]}\n",
    "- Objetivo de la campaña: {datos[\"objetivo_marketing\"]}\n",
    "- Plataformas: {\", \".join(datos[\"plataformas\"])}\n",
    "- Tipo de contenido a generar: {\", \".join(datos[\"tipo_contenido\"])}\n",
    "- Duración estimada del video: {datos[\"duracion_video_seg\"]} segundos\n",
    "- Tono de comunicación: {datos[\"tono\"]}\n",
    "- Presupuesto aproximado: ${datos[\"presupuesto_campana\"]}\n",
    "- Idioma: {datos[\"idioma\"]}\n",
    "- Logo del negocio: {datos[\"logo_url\"]}\n",
    "- Historial contextual disponible: {\"Sí\" if datos[\"historial_contextual\"] else \"No\"}\n",
    "\n",
    "Quiero que generes una respuesta en formato JSON, estrictamente sin explicaciones adicionales.\n",
    "\n",
    "El JSON debe contener los siguientes campos:\n",
    "\n",
    "- concepto_central (string)\n",
    "- contenido_creativo (lista de objetos con tipo, copy, visual, musica)\n",
    "- estrategia_publicacion (objeto con plataformas, frecuencia y horarios)\n",
    "- segmentacion_ideal (objeto con edad, intereses, comportamientos)\n",
    "- metricas_clave (lista de strings)\n",
    "- recomendaciones_extra (lista de recomendaciones útiles y creativas para mejorar el impacto)\n",
    "\n",
    "No incluyas ningún texto fuera del JSON. Solo la respuesta serializada.\n",
    "\"\"\""
   ]
  },
  {
   "cell_type": "code",
   "execution_count": 15,
   "id": "288cebc5",
   "metadata": {},
   "outputs": [
    {
     "name": "stdout",
     "output_type": "stream",
     "text": [
      "🧠 Respuesta de Together:\n",
      " {\n",
      "  \"concepto_central\": \"Zapatos Urban: Exprésate con nosotros\",\n",
      "  \"contenido_creativo\": [\n",
      "    {\n",
      "      \"tipo\": \"video_promocional\",\n",
      "      \"copy\": \"¡Únete a la tendencia urbana y sé tú mismo!\",\n",
      "      \"visual\": \"Jóvenes de 18-25 años usando nuestras zapatillas en diferentes situaciones urbanas, destacando su estilo único y personalidad\",\n",
      "      \"musica\": \"Música popular urbana moderna\"\n",
      "    }\n",
      "  ],\n",
      "  \"estrategia_publicacion\": {\n",
      "    \"plataformas\": [\"Instagram\", \"TikTok\", \"Meta Ads\"],\n",
      "    \"frecuencia\": 1,\n",
      "    \"horarios\": \"Horarios con mayor actividad en cada plataforma (consultar historial contextual del cliente)\"\n",
      "  },\n",
      "  \"segmentacion_ideal\": {\n",
      "    \"edad\": {\"inicio\": 18, \"fin\": 25},\n",
      "    \"intereses\": [\"moda urbana\", \"estilo de vida urbano\", \"deporte\", \"música urbana\"],\n",
      "    \"comportamientos\": [\"compras en línea\n"
     ]
    }
   ],
   "source": [
    "# Configurar el cliente con endpoint de Together\n",
    "client = OpenAI(\n",
    "    api_key=api_key,\n",
    "    base_url=\"https://api.together.xyz/v1\"\n",
    ")\n",
    "\n",
    "# Hacer la llamada\n",
    "response = client.chat.completions.create(\n",
    "    model=\"mistralai/Mixtral-8x7B-Instruct-v0.1\",\n",
    "    messages=[{\"role\": \"user\", \"content\": construir_prompt(input_data)}],\n",
    "    temperature=0.7,\n",
    "    max_tokens=300\n",
    ")\n",
    "\n",
    "print(\"🧠 Respuesta de Together:\")\n",
    "print(response.choices[0].message.content)\n",
    "\n"
   ]
  }
 ],
 "metadata": {
  "kernelspec": {
   "display_name": "Python 3",
   "language": "python",
   "name": "python3"
  },
  "language_info": {
   "codemirror_mode": {
    "name": "ipython",
    "version": 3
   },
   "file_extension": ".py",
   "mimetype": "text/x-python",
   "name": "python",
   "nbconvert_exporter": "python",
   "pygments_lexer": "ipython3",
   "version": "3.13.2"
  }
 },
 "nbformat": 4,
 "nbformat_minor": 5
}
